{
 "cells": [
  {
   "cell_type": "markdown",
   "metadata": {},
   "source": [
    "# Real-time audio preprocessing notebook"
   ]
  },
  {
   "cell_type": "markdown",
   "metadata": {},
   "source": [
    "* Start by importing necessary preprocessing libraries\n",
    "* visualize how much of each type of data we have \n",
    "* split the data into train test and validation sets \n",
    "* set aside a certain amount of the 2 classes of data in proportion to how large our splits are \n",
    "* save the dataframes so that they can be loaded into our training notebook later down the line"
   ]
  },
  {
   "cell_type": "code",
   "execution_count": 1,
   "metadata": {},
   "outputs": [
    {
     "name": "stderr",
     "output_type": "stream",
     "text": [
      "c:\\Users\\2005e\\OneDrive\\Documents\\GitHub\\TTC-Listen-2\\env\\Lib\\site-packages\\tqdm\\auto.py:21: TqdmWarning: IProgress not found. Please update jupyter and ipywidgets. See https://ipywidgets.readthedocs.io/en/stable/user_install.html\n",
      "  from .autonotebook import tqdm as notebook_tqdm\n",
      "None of PyTorch, TensorFlow >= 2.0, or Flax have been found. Models won't be available and only tokenizers, configuration and file/data utilities can be used.\n"
     ]
    }
   ],
   "source": [
    "import numpy as np\n",
    "import pandas as pd\n",
    "import matplotlib.pyplot as plt\n",
    "import transformers \n",
    "import librosa "
   ]
  },
  {
   "cell_type": "code",
   "execution_count": 9,
   "metadata": {},
   "outputs": [],
   "source": [
    "from enum import Enum\n",
    "\n",
    "# import the differnt types of data\n",
    "class DataClass(Enum):\n",
    "    SAFE = \"safe\"\n",
    "    DANGEROUS = \"dangerous\"\n",
    "\n",
    "dangerous = pd.DataFrame({\n",
    "    'name': pd.Series(dtype='str'),\n",
    "    'length (minutes)': pd.Series(dtype='int'),\n",
    "    'path': pd.Series(dtype='str'),\n",
    "    'class': pd.Series(dtype='category')\n",
    "})\n",
    "\n",
    "safe = pd.DataFrame({\n",
    "    'name': pd.Series(dtype='str'),\n",
    "    'length (minutes)': pd.Series(dtype='int'),\n",
    "    'path': pd.Series(dtype='str'),\n",
    "    'class': pd.Series(dtype='category')\n",
    "})"
   ]
  },
  {
   "cell_type": "code",
   "execution_count": 13,
   "metadata": {},
   "outputs": [],
   "source": [
    "import os\n",
    "\n",
    "# get the data from the files\n",
    "def load_dangerous_data():\n",
    "    global dangerous\n",
    "    for file in os.listdir(r\"C:\\Users\\2005e\\OneDrive\\Documents\\GitHub\\TTC-Listen-2\\models\\data\\dangerous\"):\n",
    "        if file.endswith(\".wav\"):\n",
    "            y, sr = librosa.load(f\"data/dangerous/{file}\")\n",
    "            duration = librosa.get_duration(y=y, sr=sr)\n",
    "            dangerous = pd.concat([dangerous, pd.DataFrame({\n",
    "                'name': [file],\n",
    "                'length (minutes)': [duration / 60],\n",
    "                'path': [f\"data/dangerous/{file}\"],\n",
    "                'class': [DataClass.DANGEROUS]\n",
    "            })], ignore_index=True)\n",
    "\n",
    "def load_safe_data():\n",
    "    global safe\n",
    "    for file in os.listdir(r\"C:\\Users\\2005e\\OneDrive\\Documents\\GitHub\\TTC-Listen-2\\models\\data\\safe\"):\n",
    "        if file.endswith(\".wav\"):\n",
    "            y, sr = librosa.load(f\"data/safe/{file}\")\n",
    "            duration = librosa.get_duration(y=y, sr=sr)\n",
    "            safe = pd.concat([safe, pd.DataFrame({\n",
    "                'name': [file],\n",
    "                'length (minutes)': [duration / 60],\n",
    "                'path': [f\"data/safe/{file}\"],\n",
    "                'class': [DataClass.SAFE]\n",
    "            })], ignore_index=True)\n",
    "\n",
    "load_dangerous_data()\n",
    "load_safe_data()"
   ]
  },
  {
   "cell_type": "code",
   "execution_count": 14,
   "metadata": {},
   "outputs": [
    {
     "data": {
      "text/html": [
       "<div>\n",
       "<style scoped>\n",
       "    .dataframe tbody tr th:only-of-type {\n",
       "        vertical-align: middle;\n",
       "    }\n",
       "\n",
       "    .dataframe tbody tr th {\n",
       "        vertical-align: top;\n",
       "    }\n",
       "\n",
       "    .dataframe thead th {\n",
       "        text-align: right;\n",
       "    }\n",
       "</style>\n",
       "<table border=\"1\" class=\"dataframe\">\n",
       "  <thead>\n",
       "    <tr style=\"text-align: right;\">\n",
       "      <th></th>\n",
       "      <th>name</th>\n",
       "      <th>length (minutes)</th>\n",
       "      <th>path</th>\n",
       "      <th>class</th>\n",
       "    </tr>\n",
       "  </thead>\n",
       "  <tbody>\n",
       "    <tr>\n",
       "      <th>0</th>\n",
       "      <td>1 Hitter Quitter.wav</td>\n",
       "      <td>2.052451</td>\n",
       "      <td>data/dangerous/1 Hitter Quitter.wav</td>\n",
       "      <td>DataClass.DANGEROUS</td>\n",
       "    </tr>\n",
       "    <tr>\n",
       "      <th>1</th>\n",
       "      <td>14 year old boy wants to fight a grown man no ...</td>\n",
       "      <td>0.506195</td>\n",
       "      <td>data/dangerous/14 year old boy wants to fight ...</td>\n",
       "      <td>DataClass.DANGEROUS</td>\n",
       "    </tr>\n",
       "    <tr>\n",
       "      <th>2</th>\n",
       "      <td>ANGRY BLACK MAN ON NYC SUBWAY HATES WOMEN!.wav</td>\n",
       "      <td>9.825911</td>\n",
       "      <td>data/dangerous/ANGRY BLACK MAN ON NYC SUBWAY H...</td>\n",
       "      <td>DataClass.DANGEROUS</td>\n",
       "    </tr>\n",
       "    <tr>\n",
       "      <th>3</th>\n",
       "      <td>ANOTHER FIGHT ON THE 2 TRAIN NYC SMFH LMFAO! @...</td>\n",
       "      <td>2.828965</td>\n",
       "      <td>data/dangerous/ANOTHER FIGHT ON THE 2 TRAIN NY...</td>\n",
       "      <td>DataClass.DANGEROUS</td>\n",
       "    </tr>\n",
       "    <tr>\n",
       "      <th>4</th>\n",
       "      <td>Argument Ends With Dude Getting Jumped For Get...</td>\n",
       "      <td>3.342899</td>\n",
       "      <td>data/dangerous/Argument Ends With Dude Getting...</td>\n",
       "      <td>DataClass.DANGEROUS</td>\n",
       "    </tr>\n",
       "  </tbody>\n",
       "</table>\n",
       "</div>"
      ],
      "text/plain": [
       "                                                name  length (minutes)  \\\n",
       "0                               1 Hitter Quitter.wav          2.052451   \n",
       "1  14 year old boy wants to fight a grown man no ...          0.506195   \n",
       "2     ANGRY BLACK MAN ON NYC SUBWAY HATES WOMEN!.wav          9.825911   \n",
       "3  ANOTHER FIGHT ON THE 2 TRAIN NYC SMFH LMFAO! @...          2.828965   \n",
       "4  Argument Ends With Dude Getting Jumped For Get...          3.342899   \n",
       "\n",
       "                                                path                class  \n",
       "0                data/dangerous/1 Hitter Quitter.wav  DataClass.DANGEROUS  \n",
       "1  data/dangerous/14 year old boy wants to fight ...  DataClass.DANGEROUS  \n",
       "2  data/dangerous/ANGRY BLACK MAN ON NYC SUBWAY H...  DataClass.DANGEROUS  \n",
       "3  data/dangerous/ANOTHER FIGHT ON THE 2 TRAIN NY...  DataClass.DANGEROUS  \n",
       "4  data/dangerous/Argument Ends With Dude Getting...  DataClass.DANGEROUS  "
      ]
     },
     "execution_count": 14,
     "metadata": {},
     "output_type": "execute_result"
    }
   ],
   "source": [
    "dangerous.head()"
   ]
  },
  {
   "cell_type": "code",
   "execution_count": 15,
   "metadata": {},
   "outputs": [
    {
     "data": {
      "text/html": [
       "<div>\n",
       "<style scoped>\n",
       "    .dataframe tbody tr th:only-of-type {\n",
       "        vertical-align: middle;\n",
       "    }\n",
       "\n",
       "    .dataframe tbody tr th {\n",
       "        vertical-align: top;\n",
       "    }\n",
       "\n",
       "    .dataframe thead th {\n",
       "        text-align: right;\n",
       "    }\n",
       "</style>\n",
       "<table border=\"1\" class=\"dataframe\">\n",
       "  <thead>\n",
       "    <tr style=\"text-align: right;\">\n",
       "      <th></th>\n",
       "      <th>name</th>\n",
       "      <th>length (minutes)</th>\n",
       "      <th>path</th>\n",
       "      <th>class</th>\n",
       "    </tr>\n",
       "  </thead>\n",
       "  <tbody>\n",
       "    <tr>\n",
       "      <th>0</th>\n",
       "      <td>TTC Subway 100.wav</td>\n",
       "      <td>11.843889</td>\n",
       "      <td>data/safe/TTC Subway 100.wav</td>\n",
       "      <td>DataClass.SAFE</td>\n",
       "    </tr>\n",
       "    <tr>\n",
       "      <th>1</th>\n",
       "      <td>TTC Subway 101.wav</td>\n",
       "      <td>6.810994</td>\n",
       "      <td>data/safe/TTC Subway 101.wav</td>\n",
       "      <td>DataClass.SAFE</td>\n",
       "    </tr>\n",
       "    <tr>\n",
       "      <th>2</th>\n",
       "      <td>TTC Subway 103.wav</td>\n",
       "      <td>15.504545</td>\n",
       "      <td>data/safe/TTC Subway 103.wav</td>\n",
       "      <td>DataClass.SAFE</td>\n",
       "    </tr>\n",
       "    <tr>\n",
       "      <th>3</th>\n",
       "      <td>TTC Subway 104.wav</td>\n",
       "      <td>17.555556</td>\n",
       "      <td>data/safe/TTC Subway 104.wav</td>\n",
       "      <td>DataClass.SAFE</td>\n",
       "    </tr>\n",
       "    <tr>\n",
       "      <th>4</th>\n",
       "      <td>TTC Subway 105.wav</td>\n",
       "      <td>7.055166</td>\n",
       "      <td>data/safe/TTC Subway 105.wav</td>\n",
       "      <td>DataClass.SAFE</td>\n",
       "    </tr>\n",
       "  </tbody>\n",
       "</table>\n",
       "</div>"
      ],
      "text/plain": [
       "                 name  length (minutes)                          path  \\\n",
       "0  TTC Subway 100.wav         11.843889  data/safe/TTC Subway 100.wav   \n",
       "1  TTC Subway 101.wav          6.810994  data/safe/TTC Subway 101.wav   \n",
       "2  TTC Subway 103.wav         15.504545  data/safe/TTC Subway 103.wav   \n",
       "3  TTC Subway 104.wav         17.555556  data/safe/TTC Subway 104.wav   \n",
       "4  TTC Subway 105.wav          7.055166  data/safe/TTC Subway 105.wav   \n",
       "\n",
       "            class  \n",
       "0  DataClass.SAFE  \n",
       "1  DataClass.SAFE  \n",
       "2  DataClass.SAFE  \n",
       "3  DataClass.SAFE  \n",
       "4  DataClass.SAFE  "
      ]
     },
     "execution_count": 15,
     "metadata": {},
     "output_type": "execute_result"
    }
   ],
   "source": [
    "safe.head()"
   ]
  },
  {
   "cell_type": "code",
   "execution_count": 18,
   "metadata": {},
   "outputs": [
    {
     "name": "stdout",
     "output_type": "stream",
     "text": [
      "Total duration of dangerous data: 8.1030487654321 hours\n",
      "Total duration of safe data: 24.453270975056686 hours\n"
     ]
    }
   ],
   "source": [
    "#print out total duration of both \n",
    "total_dangerous_duration = dangerous['length (minutes)'].sum()/60\n",
    "total_safe_duration = safe['length (minutes)'].sum()/60"
   ]
  },
  {
   "cell_type": "code",
   "execution_count": 22,
   "metadata": {},
   "outputs": [],
   "source": [
    "train_split = 0.8\n",
    "validation_split = 0.2"
   ]
  },
  {
   "cell_type": "code",
   "execution_count": 23,
   "metadata": {},
   "outputs": [],
   "source": [
    "def split_data_by_duration(data):\n",
    "    data = data.sort_values(by='length (minutes)', ascending=False)\n",
    "    train_duration = data['length (minutes)'].sum() * train_split\n",
    "    train = pd.DataFrame()\n",
    "    validation = pd.DataFrame()\n",
    "    current_duration = 0\n",
    "\n",
    "    for index, row in data.iterrows():\n",
    "        if current_duration + row['length (minutes)'] <= train_duration:\n",
    "            train = pd.concat([train, pd.DataFrame([row])], ignore_index=True)\n",
    "            current_duration += row['length (minutes)']\n",
    "        else:\n",
    "            validation = pd.concat([validation, pd.DataFrame([row])], ignore_index=True)\n",
    "\n",
    "    return train, validation\n",
    "\n",
    "train_dangerous, validation_dangerous = split_data_by_duration(dangerous)\n",
    "train_safe, validation_safe = split_data_by_duration(safe)"
   ]
  },
  {
   "cell_type": "code",
   "execution_count": 27,
   "metadata": {},
   "outputs": [
    {
     "data": {
      "text/plain": [
       "np.float64(26.044210959939527)"
      ]
     },
     "execution_count": 27,
     "metadata": {},
     "output_type": "execute_result"
    }
   ],
   "source": [
    "total_train_duration = train_dangerous['length (minutes)'].sum() + train_safe['length (minutes)'].sum()\n",
    "total_train_duration / 60  # Convert to hours\n"
   ]
  },
  {
   "cell_type": "code",
   "execution_count": 28,
   "metadata": {},
   "outputs": [],
   "source": [
    "train_dangerous.to_csv('train_dangerous.csv', index=False)\n",
    "validation_dangerous.to_csv('validation_dangerous.csv', index=False)\n",
    "train_safe.to_csv('train_safe.csv', index=False)\n",
    "validation_safe.to_csv('validation_safe.csv', index=False)"
   ]
  }
 ],
 "metadata": {
  "kernelspec": {
   "display_name": "env",
   "language": "python",
   "name": "python3"
  },
  "language_info": {
   "codemirror_mode": {
    "name": "ipython",
    "version": 3
   },
   "file_extension": ".py",
   "mimetype": "text/x-python",
   "name": "python",
   "nbconvert_exporter": "python",
   "pygments_lexer": "ipython3",
   "version": "3.11.5"
  }
 },
 "nbformat": 4,
 "nbformat_minor": 2
}
