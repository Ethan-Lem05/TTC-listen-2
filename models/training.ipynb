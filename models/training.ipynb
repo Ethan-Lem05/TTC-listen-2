{
 "cells": [
  {
   "cell_type": "markdown",
   "metadata": {},
   "source": [
    "# Training notebook \n",
    "\n",
    "* Design a pipeline to load individual videos and stream them to model in 3 second chunks \n",
    "* Import wav2vec 2.0 for embedding 3 second chunks\n",
    "* Stream data to the model and train LSTM + feed-forward \n",
    "* Visualize loss before hyperparameter tuning "
   ]
  }
 ],
 "metadata": {
  "language_info": {
   "name": "python"
  }
 },
 "nbformat": 4,
 "nbformat_minor": 2
}
