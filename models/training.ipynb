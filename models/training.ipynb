{
 "cells": [
  {
   "cell_type": "markdown",
   "metadata": {},
   "source": [
    "# Training notebook \n",
    "\n",
    "* Design a pipeline to load individual videos and stream them to model in 3 second chunks \n",
    "    * load a file. split the audio file into 960 ms clips \n",
    "    * once we are out of clips we load another file\n",
    "* Import VGGish for embedding 1 second chunks\n",
    "* Stream data to the model and train LSTM + feed-forward \n",
    "* Visualize loss before hyperparameter tuning "
   ]
  },
  {
   "cell_type": "code",
   "execution_count": 2,
   "metadata": {},
   "outputs": [],
   "source": [
    "import torch\n",
    "from torch import nn\n",
    "from torch import optim\n",
    "from torch.hub import load\n",
    "import pandas as pd\n",
    "import numpy as np\n",
    "import matplotlib.pyplot as plt"
   ]
  },
  {
   "cell_type": "code",
   "execution_count": null,
   "metadata": {},
   "outputs": [],
   "source": [
    "training_safe = pd.read_csv('train_safe.csv')\n",
    "training_dangerous = pd.read_csv('train_dangerous.csv')\n",
    "\n",
    "validation_safe = pd.read_csv('validation_safe.csv')\n",
    "validation_dangerous = pd.read_csv('validation_dangerous.csv')"
   ]
  },
  {
   "cell_type": "code",
   "execution_count": null,
   "metadata": {},
   "outputs": [
    {
     "name": "stderr",
     "output_type": "stream",
     "text": [
      "Using cache found in C:\\Users\\2005e/.cache\\torch\\hub\\harritaylor_torchvggish_master\n",
      "Downloading: \"https://github.com/harritaylor/torchvggish/releases/download/v0.1/vggish-10086976.pth\" to C:\\Users\\2005e/.cache\\torch\\hub\\checkpoints\\vggish-10086976.pth\n",
      "100%|██████████| 275M/275M [00:26<00:00, 10.9MB/s] \n",
      "Downloading: \"https://github.com/harritaylor/torchvggish/releases/download/v0.1/vggish_pca_params-970ea276.pth\" to C:\\Users\\2005e/.cache\\torch\\hub\\checkpoints\\vggish_pca_params-970ea276.pth\n",
      "100%|██████████| 177k/177k [00:00<00:00, 2.49MB/s]\n"
     ]
    },
    {
     "data": {
      "text/plain": [
       "VGGish(\n",
       "  (features): Sequential(\n",
       "    (0): Conv2d(1, 64, kernel_size=(3, 3), stride=(1, 1), padding=(1, 1))\n",
       "    (1): ReLU(inplace=True)\n",
       "    (2): MaxPool2d(kernel_size=2, stride=2, padding=0, dilation=1, ceil_mode=False)\n",
       "    (3): Conv2d(64, 128, kernel_size=(3, 3), stride=(1, 1), padding=(1, 1))\n",
       "    (4): ReLU(inplace=True)\n",
       "    (5): MaxPool2d(kernel_size=2, stride=2, padding=0, dilation=1, ceil_mode=False)\n",
       "    (6): Conv2d(128, 256, kernel_size=(3, 3), stride=(1, 1), padding=(1, 1))\n",
       "    (7): ReLU(inplace=True)\n",
       "    (8): Conv2d(256, 256, kernel_size=(3, 3), stride=(1, 1), padding=(1, 1))\n",
       "    (9): ReLU(inplace=True)\n",
       "    (10): MaxPool2d(kernel_size=2, stride=2, padding=0, dilation=1, ceil_mode=False)\n",
       "    (11): Conv2d(256, 512, kernel_size=(3, 3), stride=(1, 1), padding=(1, 1))\n",
       "    (12): ReLU(inplace=True)\n",
       "    (13): Conv2d(512, 512, kernel_size=(3, 3), stride=(1, 1), padding=(1, 1))\n",
       "    (14): ReLU(inplace=True)\n",
       "    (15): MaxPool2d(kernel_size=2, stride=2, padding=0, dilation=1, ceil_mode=False)\n",
       "  )\n",
       "  (embeddings): Sequential(\n",
       "    (0): Linear(in_features=12288, out_features=4096, bias=True)\n",
       "    (1): ReLU(inplace=True)\n",
       "    (2): Linear(in_features=4096, out_features=4096, bias=True)\n",
       "    (3): ReLU(inplace=True)\n",
       "    (4): Linear(in_features=4096, out_features=128, bias=True)\n",
       "    (5): ReLU(inplace=True)\n",
       "  )\n",
       "  (pproc): Postprocessor()\n",
       ")"
      ]
     },
     "execution_count": 5,
     "metadata": {},
     "output_type": "execute_result"
    }
   ],
   "source": [
    "# load vggish model as feature extractor\n",
    "features = load('harritaylor/torchvggish', 'vggish')\n",
    "features.eval()"
   ]
  },
  {
   "cell_type": "code",
   "execution_count": null,
   "metadata": {},
   "outputs": [],
   "source": [
    "class SentimentLSTM(nn.Module):\n",
    "    def __init__(self, input_size, hidden_size, num_layers, output_size, dropout=0.5):\n",
    "        super(SentimentLSTM, self).__init__()\n",
    "        \n",
    "        # Define the LSTM layer\n",
    "        self.lstm = nn.LSTM(input_size, hidden_size, num_layers, batch_first=True, dropout=dropout)\n",
    "        \n",
    "        # Fully connected layers\n",
    "        self.fc1 = nn.Linear(hidden_size, 32)\n",
    "        self.fc2 = nn.Linear(32, 8)\n",
    "        self.fc3 = nn.Linear(8, output_size)\n",
    "        \n",
    "        # Activation function\n",
    "        self.activation = nn.LeakyReLU()\n",
    "        self.final_activation = nn.Sigmoid()\n",
    "\n",
    "    def forward(self, x):\n",
    "        # LSTM forward pass\n",
    "        lstm_out, _ = self.lstm(x)\n",
    "        \n",
    "        # Take the output from the last time step\n",
    "        last_output = lstm_out[:, -1, :]\n",
    "        \n",
    "        # Pass through fully connected layers with activation\n",
    "        x = self.fc1(last_output)\n",
    "        x = self.activation(x)\n",
    "        x = self.fc2(x)\n",
    "        x = self.activation(x)\n",
    "        x = self.fc3(x)\n",
    "        \n",
    "        # Apply final activation\n",
    "        return self.final_activation(x)"
   ]
  },
  {
   "cell_type": "code",
   "execution_count": null,
   "metadata": {},
   "outputs": [],
   "source": [
    "input_size = 128    # Output size of VGGish features\n",
    "hidden_size = 128   # hidden state size of the LSTM\n",
    "num_layers = 2      # Number of stacked LSTM layers\n",
    "output_size = 1     # Binary classification (positive/negative sentiment)\n",
    "dropout = 0.3       # Dropout for regularization\n",
    "\n",
    "model = SentimentLSTM(input_size, hidden_size, num_layers, output_size, dropout=dropout)"
   ]
  },
  {
   "cell_type": "code",
   "execution_count": 1,
   "metadata": {},
   "outputs": [
    {
     "ename": "SyntaxError",
     "evalue": "incomplete input (3224766424.py, line 2)",
     "output_type": "error",
     "traceback": [
      "\u001b[1;36m  Cell \u001b[1;32mIn[1], line 2\u001b[1;36m\u001b[0m\n\u001b[1;33m    for n in epochs:\u001b[0m\n\u001b[1;37m                    ^\u001b[0m\n\u001b[1;31mSyntaxError\u001b[0m\u001b[1;31m:\u001b[0m incomplete input\n"
     ]
    }
   ],
   "source": [
    "def training_loop(epochs):\n",
    "    for n in epochs:\n",
    "        # Set the model to training mode\n",
    "        model.train()\n",
    "        \n",
    "        # Initialize the optimizer\n",
    "        optimizer = optim.Adam(model.parameters(), lr=0.001)\n",
    "        \n",
    "        # Initialize the loss function\n",
    "        criterion = nn.BCELoss()\n",
    "        \n",
    "        # Initialize the loss accumulator\n",
    "        train_loss = 0.0\n",
    "        \n",
    "        # Iterate over the training data\n",
    "        for i in range(len(training_safe)):\n",
    "            # Extract the features and labels\n",
    "            features_safe = training_safe.iloc[i].values\n",
    "            features_dangerous = training_dangerous.iloc[i].values\n",
    "            features = np.concatenate([features_safe, features_dangerous], axis=0)\n",
    "            features = torch.tensor(features, dtype=torch.float32)\n",
    "            \n",
    "            # Extract the labels\n",
    "            label = torch.tensor([0], dtype=torch.float32)\n",
    "            \n",
    "            # Zero the gradients\n",
    "            optimizer.zero_grad()\n",
    "            \n",
    "            # Forward pass\n",
    "            model.forward(features)"
   ]
  },
  {
   "cell_type": "code",
   "execution_count": null,
   "metadata": {},
   "outputs": [],
   "source": []
  }
 ],
 "metadata": {
  "kernelspec": {
   "display_name": "env",
   "language": "python",
   "name": "python3"
  },
  "language_info": {
   "codemirror_mode": {
    "name": "ipython",
    "version": 3
   },
   "file_extension": ".py",
   "mimetype": "text/x-python",
   "name": "python",
   "nbconvert_exporter": "python",
   "pygments_lexer": "ipython3",
   "version": "3.11.5"
  }
 },
 "nbformat": 4,
 "nbformat_minor": 2
}
